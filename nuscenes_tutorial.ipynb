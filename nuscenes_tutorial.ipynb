{
 "cells": [
  {
   "cell_type": "markdown",
   "metadata": {},
   "source": [
    "# nuScenes devkit tutorial\n",
    "\n",
    "Welcome to the nuScenes tutorial. This demo assumes the database itself is available at `./data/`, and loads a mini version of the full dataset."
   ]
  },
  {
   "cell_type": "markdown",
   "metadata": {},
   "source": [
    "## A Gentle Introduction to nuScenes\n",
    "\n",
    "In this part of the tutorial, let us go through a top-down introduction of our database. Our dataset comprises of elemental building blocks that are the following:\n",
    "\n",
    "1. `log` - Log information from which the data was extracted.\n",
    "2. `scene` - 20 second snippet of a car's journey.\n",
    "3. `sample` - An annotated snapshot of a scene at a particular timestamp.\n",
    "4. `sample_data` - Data collected from a particular sensor.\n",
    "5. `ego_pose` - Ego vehicle poses at a particular timestamp.\n",
    "6. `sensor` - A specific sensor type.\n",
    "7. `calibrated sensor` - Definition of a particular sensor as calibrated on a particular vehicle.\n",
    "8. `instance` - Enumeration of all object instance we observed.\n",
    "9. `category` - Taxonomy of object categories (e.g. vehicle, human). \n",
    "10. `attribute` - Property of an instance that can change while the category remains the same.\n",
    "11. `visibility` - Fraction of pixels visible in all the images collected from 6 different cameras.\n",
    "12. `sample_annotation` - An annotated instance of an object within our interest.\n",
    "13. `map` - Map data that is stored as binary semantic masks from a top-down view.\n",
    "\n",
    "The database schema is visualized below. For more information see the [nuScenes schema](https://github.com/nutonomy/nuscenes-devkit/blob/master/docs/schema_nuscenes.md) page.\n",
    "![](https://www.nuscenes.org/public/images/nuscenes-schema.svg)"
   ]
  },
  {
   "cell_type": "markdown",
   "metadata": {},
   "source": [
    "## Initialization"
   ]
  },
  {
   "cell_type": "code",
   "execution_count": 1,
   "metadata": {},
   "outputs": [
    {
     "name": "stdout",
     "output_type": "stream",
     "text": [
      "====================\n",
      "Loading NuScenes dataset for version v1.0-mini\n",
      "Loaded 23 category.\n",
      "Loaded 8 attribute.\n",
      "Loaded 4 visibility.\n",
      "Loaded 911 instance.\n",
      "Loaded 12 sensor.\n",
      "Loaded 120 calibrated_sensor.\n",
      "Loaded 31206 ego_pose.\n",
      "Loaded 8 log.\n",
      "Loaded 10 scene.\n",
      "Loaded 404 sample.\n",
      "Loaded 31206 sample_data.\n",
      "Loaded 18538 sample_annotation.\n",
      "Loaded 4 map.\n",
      "Loaded data in 589 ms\n",
      "====================\n",
      "Built reverse index in 29 ms\n"
     ]
    }
   ],
   "source": [
    "import sys\n",
    "\n",
    "sys.path.append('./build')\n",
    "\n",
    "from _nuscenes import NuScenes\n",
    "\n",
    "nusc = NuScenes(version='v1.0-mini', dataroot='./data/', verbose=True)"
   ]
  },
  {
   "cell_type": "markdown",
   "metadata": {},
   "source": [
    "## A look at the dataset"
   ]
  },
  {
   "cell_type": "markdown",
   "metadata": {},
   "source": [
    "### 1. `scene`"
   ]
  },
  {
   "cell_type": "markdown",
   "metadata": {},
   "source": [
    "nuScenes is a large scale database that features annotated samples across ***1000 scenes*** of approximately 20 seconds each. Let's take a look at the scenes that we have in the loaded database."
   ]
  },
  {
   "cell_type": "code",
   "execution_count": 2,
   "metadata": {},
   "outputs": [
    {
     "data": {
      "text/plain": [
       "[<_nuscenes.Scene at 0x7fda4422e230>,\n",
       " <_nuscenes.Scene at 0x7fda40049cf0>,\n",
       " <_nuscenes.Scene at 0x7fda400497f0>,\n",
       " <_nuscenes.Scene at 0x7fda40041cb0>,\n",
       " <_nuscenes.Scene at 0x7fda400427b0>,\n",
       " <_nuscenes.Scene at 0x7fda40054ef0>,\n",
       " <_nuscenes.Scene at 0x7fda40054df0>,\n",
       " <_nuscenes.Scene at 0x7fda40054fb0>,\n",
       " <_nuscenes.Scene at 0x7fda40055070>,\n",
       " <_nuscenes.Scene at 0x7fda40055170>]"
      ]
     },
     "execution_count": 2,
     "metadata": {},
     "output_type": "execute_result"
    }
   ],
   "source": [
    "nusc.scenes"
   ]
  },
  {
   "cell_type": "markdown",
   "metadata": {},
   "source": [
    "Let's look at a scene metadata"
   ]
  },
  {
   "cell_type": "code",
   "execution_count": 3,
   "metadata": {},
   "outputs": [
    {
     "data": {
      "text/plain": [
       "<_nuscenes.Scene at 0x7fda4422e230>"
      ]
     },
     "execution_count": 3,
     "metadata": {},
     "output_type": "execute_result"
    }
   ],
   "source": [
    "my_scene = nusc.scenes[0]\n",
    "my_scene"
   ]
  },
  {
   "cell_type": "markdown",
   "metadata": {},
   "source": [
    "### 2. `sample`"
   ]
  },
  {
   "cell_type": "markdown",
   "metadata": {},
   "source": [
    "In scenes, we annotate our data every half a second (2 Hz).\n",
    "\n",
    "We define `sample` as an ***annotated keyframe of a scene at a given timestamp***. A keyframe is a frame where the time-stamps of data from all the sensors should be very close to the time-stamp of the sample it points to.\n",
    "\n",
    "Now, let us look at the first annotated sample in this scene."
   ]
  },
  {
   "cell_type": "code",
   "execution_count": 4,
   "metadata": {
    "scrolled": true
   },
   "outputs": [
    {
     "data": {
      "text/plain": [
       "'ca9a282c9e77460f8360f564131a8af5'"
      ]
     },
     "execution_count": 4,
     "metadata": {},
     "output_type": "execute_result"
    }
   ],
   "source": [
    "first_sample_token = my_scene.first_sample_token\n",
    "first_sample_token"
   ]
  },
  {
   "cell_type": "markdown",
   "metadata": {},
   "source": [
    "Let's examine its metadata"
   ]
  },
  {
   "cell_type": "code",
   "execution_count": 5,
   "metadata": {
    "scrolled": true
   },
   "outputs": [
    {
     "data": {
      "text/plain": [
       "<_nuscenes.Sample at 0x7fda4422f070>"
      ]
     },
     "execution_count": 5,
     "metadata": {},
     "output_type": "execute_result"
    }
   ],
   "source": [
    "my_sample = nusc.sample(first_sample_token)\n",
    "my_sample"
   ]
  },
  {
   "cell_type": "markdown",
   "metadata": {},
   "source": [
    "A useful method is  `list_sample()` which lists all related `sample_data` keyframes and `sample_annotation` associated with a `sample` which we will discuss in detail in the subsequent parts."
   ]
  },
  {
   "cell_type": "code",
   "execution_count": 6,
   "metadata": {
    "scrolled": true
   },
   "outputs": [
    {
     "name": "stdout",
     "output_type": "stream",
     "text": [
      "69\n",
      "12\n"
     ]
    }
   ],
   "source": [
    "print(len(my_sample.annotations))\n",
    "print(len(my_sample.datas))"
   ]
  },
  {
   "cell_type": "markdown",
   "metadata": {},
   "source": [
    "### 3. `sample_data`"
   ]
  },
  {
   "cell_type": "markdown",
   "metadata": {},
   "source": [
    "The nuScenes dataset contains data that is collected from a full sensor suite. Hence, for each snapshot of a scene, we provide references to a family of data that is collected from these sensors. \n",
    "\n",
    "We provide a `data` key to access these:"
   ]
  },
  {
   "cell_type": "code",
   "execution_count": 7,
   "metadata": {},
   "outputs": [
    {
     "data": {
      "text/plain": [
       "[<_nuscenes.SampleData at 0x7fda4007a470>,\n",
       " <_nuscenes.SampleData at 0x7fda4007a0b0>,\n",
       " <_nuscenes.SampleData at 0x7fda4007a370>,\n",
       " <_nuscenes.SampleData at 0x7fda40079cb0>,\n",
       " <_nuscenes.SampleData at 0x7fda4007a330>,\n",
       " <_nuscenes.SampleData at 0x7fda4007acf0>,\n",
       " <_nuscenes.SampleData at 0x7fda4007a970>,\n",
       " <_nuscenes.SampleData at 0x7fda4007aef0>,\n",
       " <_nuscenes.SampleData at 0x7fda4007aeb0>,\n",
       " <_nuscenes.SampleData at 0x7fda4007b030>,\n",
       " <_nuscenes.SampleData at 0x7fda4007aff0>,\n",
       " <_nuscenes.SampleData at 0x7fda4007ae70>]"
      ]
     },
     "execution_count": 7,
     "metadata": {},
     "output_type": "execute_result"
    }
   ],
   "source": [
    "my_sample.datas"
   ]
  },
  {
   "cell_type": "markdown",
   "metadata": {},
   "source": [
    "### 4. `sample_annotation`"
   ]
  },
  {
   "cell_type": "markdown",
   "metadata": {},
   "source": [
    "`sample_annotation` refers to any ***bounding box defining the position of an object seen in a sample***. All location data is given with respect to the global coordinate system. Let's examine an example from our `sample` above."
   ]
  },
  {
   "cell_type": "code",
   "execution_count": 8,
   "metadata": {},
   "outputs": [
    {
     "data": {
      "text/plain": [
       "<_nuscenes.Annotation at 0x7fda40042af0>"
      ]
     },
     "execution_count": 8,
     "metadata": {},
     "output_type": "execute_result"
    }
   ],
   "source": [
    "my_annotation_token = my_sample.annotations[18].token\n",
    "my_annotation_metadata =  nusc.annotation(my_annotation_token)\n",
    "my_annotation_metadata"
   ]
  },
  {
   "cell_type": "markdown",
   "metadata": {},
   "source": [
    "### 5. `instance`"
   ]
  },
  {
   "cell_type": "markdown",
   "metadata": {},
   "source": [
    "Object instance are instances that need to be detected or tracked by an AV (e.g a particular vehicle, pedestrian). Let us examine an instance metadata"
   ]
  },
  {
   "cell_type": "code",
   "execution_count": 9,
   "metadata": {},
   "outputs": [
    {
     "data": {
      "text/plain": [
       "<_nuscenes.Instance at 0x7fda40084e70>"
      ]
     },
     "execution_count": 9,
     "metadata": {},
     "output_type": "execute_result"
    }
   ],
   "source": [
    "my_instance = nusc.instances[599]\n",
    "my_instance"
   ]
  },
  {
   "cell_type": "markdown",
   "metadata": {},
   "source": [
    "We generally track an instance across different frames in a particular scene. However, we do not track them across different scenes. In this example, we have 16 annotated samples for this instance across a particular scene."
   ]
  },
  {
   "cell_type": "code",
   "execution_count": 10,
   "metadata": {},
   "outputs": [],
   "source": [
    "instance_token = my_instance.token"
   ]
  },
  {
   "cell_type": "markdown",
   "metadata": {},
   "source": [
    "### 6. `category`"
   ]
  },
  {
   "cell_type": "markdown",
   "metadata": {},
   "source": [
    "A `category` is the object assignment of an annotation.  Let's look at the category table we have in our database. The table contains the taxonomy of different object categories and also list the subcategories (delineated by a period). "
   ]
  },
  {
   "cell_type": "code",
   "execution_count": 11,
   "metadata": {},
   "outputs": [
    {
     "data": {
      "text/plain": [
       "[<_nuscenes.Category at 0x7fda4007bb30>,\n",
       " <_nuscenes.Category at 0x7fda4007bbb0>,\n",
       " <_nuscenes.Category at 0x7fda4007bf70>,\n",
       " <_nuscenes.Category at 0x7fda4007be30>,\n",
       " <_nuscenes.Category at 0x7fda4007bf30>,\n",
       " <_nuscenes.Category at 0x7fda4007bef0>,\n",
       " <_nuscenes.Category at 0x7fda4007bfb0>,\n",
       " <_nuscenes.Category at 0x7fda4007bc30>,\n",
       " <_nuscenes.Category at 0x7fda400840f0>,\n",
       " <_nuscenes.Category at 0x7fda40084130>,\n",
       " <_nuscenes.Category at 0x7fda400840b0>,\n",
       " <_nuscenes.Category at 0x7fda40084070>,\n",
       " <_nuscenes.Category at 0x7fda40084030>,\n",
       " <_nuscenes.Category at 0x7fda40084170>,\n",
       " <_nuscenes.Category at 0x7fda400841b0>,\n",
       " <_nuscenes.Category at 0x7fda400841f0>,\n",
       " <_nuscenes.Category at 0x7fda40084230>,\n",
       " <_nuscenes.Category at 0x7fda40084270>,\n",
       " <_nuscenes.Category at 0x7fda400842b0>,\n",
       " <_nuscenes.Category at 0x7fda400842f0>,\n",
       " <_nuscenes.Category at 0x7fda40084330>,\n",
       " <_nuscenes.Category at 0x7fda40084370>,\n",
       " <_nuscenes.Category at 0x7fda400843b0>]"
      ]
     },
     "execution_count": 11,
     "metadata": {},
     "output_type": "execute_result"
    }
   ],
   "source": [
    "nusc.categories"
   ]
  },
  {
   "cell_type": "markdown",
   "metadata": {},
   "source": [
    "A category record contains the name and the description of that particular category."
   ]
  },
  {
   "cell_type": "code",
   "execution_count": 12,
   "metadata": {},
   "outputs": [
    {
     "data": {
      "text/plain": [
       "<_nuscenes.Category at 0x7fda40084130>"
      ]
     },
     "execution_count": 12,
     "metadata": {},
     "output_type": "execute_result"
    }
   ],
   "source": [
    "nusc.categories[9]"
   ]
  },
  {
   "cell_type": "markdown",
   "metadata": {},
   "source": [
    "Refer to `instructions_nuscenes.md` for the definitions of the different categories."
   ]
  },
  {
   "cell_type": "markdown",
   "metadata": {},
   "source": [
    "### 7. `attribute`"
   ]
  },
  {
   "cell_type": "markdown",
   "metadata": {},
   "source": [
    "An `attribute` is a property of an instance that may change throughout different parts of a scene while the category remains the same. Here we list the provided attributes and the number of annotations associated with a particular attribute."
   ]
  },
  {
   "cell_type": "code",
   "execution_count": 13,
   "metadata": {},
   "outputs": [
    {
     "data": {
      "text/plain": [
       "[<_nuscenes.Attribute at 0x7fda400849f0>,\n",
       " <_nuscenes.Attribute at 0x7fda40084bb0>,\n",
       " <_nuscenes.Attribute at 0x7fda400846f0>,\n",
       " <_nuscenes.Attribute at 0x7fda40084bf0>,\n",
       " <_nuscenes.Attribute at 0x7fda40084eb0>,\n",
       " <_nuscenes.Attribute at 0x7fda40084ef0>,\n",
       " <_nuscenes.Attribute at 0x7fda400845f0>,\n",
       " <_nuscenes.Attribute at 0x7fda40084f30>]"
      ]
     },
     "execution_count": 13,
     "metadata": {},
     "output_type": "execute_result"
    }
   ],
   "source": [
    "nusc.attributes"
   ]
  },
  {
   "cell_type": "markdown",
   "metadata": {},
   "source": [
    "Let's take a look at an example how an attribute may change over one scene"
   ]
  },
  {
   "cell_type": "code",
   "execution_count": 14,
   "metadata": {},
   "outputs": [
    {
     "name": "stdout",
     "output_type": "stream",
     "text": [
      "Changed from `None` to `pedestrian.moving` at timestamp 1532402927647951 out of 39 annotated timestamps\n",
      "Changed from `pedestrian.moving` to `pedestrian.standing` at timestamp 1532402938197897 out of 39 annotated timestamps\n"
     ]
    }
   ],
   "source": [
    "my_instance = nusc.instances[27]\n",
    "first_token = my_instance.first_annotation_token\n",
    "last_token = my_instance.last_annotation_token\n",
    "nbr_samples = my_instance.nbr_annotations\n",
    "current_token = first_token\n",
    "\n",
    "found_change = False\n",
    "last_attr = None\n",
    "for ann in my_instance.annotations:\n",
    "    cur_attr_token = ann.attribute_tokens[0]\n",
    "    cur_attr = nusc.attribute(cur_attr_token).name\n",
    "    if cur_attr != last_attr:\n",
    "        print(\"Changed from `{}` to `{}` at timestamp {} out of {} annotated timestamps\".format(last_attr, cur_attr, ann.sample.timestamp, nbr_samples))\n",
    "        found_change = True\n",
    "    last_attr = cur_attr\n"
   ]
  },
  {
   "cell_type": "markdown",
   "metadata": {},
   "source": [
    "### 8. `visibility`"
   ]
  },
  {
   "cell_type": "markdown",
   "metadata": {},
   "source": [
    "`visibility` is defined as the fraction of pixels of a particular annotation that are visible over the 6 camera feeds, grouped into 4 bins."
   ]
  },
  {
   "cell_type": "code",
   "execution_count": 15,
   "metadata": {},
   "outputs": [
    {
     "data": {
      "text/plain": [
       "[<_nuscenes.Visibility at 0x7fda40085570>,\n",
       " <_nuscenes.Visibility at 0x7fda400849b0>,\n",
       " <_nuscenes.Visibility at 0x7fda40085830>,\n",
       " <_nuscenes.Visibility at 0x7fda400852f0>]"
      ]
     },
     "execution_count": 15,
     "metadata": {},
     "output_type": "execute_result"
    }
   ],
   "source": [
    "nusc.visibilities"
   ]
  },
  {
   "cell_type": "markdown",
   "metadata": {},
   "source": [
    "Let's look at an example `sample_annotation` with 80-100% visibility"
   ]
  },
  {
   "cell_type": "code",
   "execution_count": 16,
   "metadata": {},
   "outputs": [
    {
     "name": "stdout",
     "output_type": "stream",
     "text": [
      "Visibility: 4\n"
     ]
    }
   ],
   "source": [
    "anntoken = 'a7d0722bce164f88adf03ada491ea0ba'\n",
    "visibility = nusc.annotation(anntoken).visibility_token\n",
    "\n",
    "print(f\"Visibility: {visibility}\")"
   ]
  },
  {
   "cell_type": "markdown",
   "metadata": {},
   "source": [
    "Let's look at an example `sample_annotation` with 0-40% visibility"
   ]
  },
  {
   "cell_type": "code",
   "execution_count": 17,
   "metadata": {},
   "outputs": [
    {
     "name": "stdout",
     "output_type": "stream",
     "text": [
      "Visibility: 1\n"
     ]
    }
   ],
   "source": [
    "anntoken = '9f450bf6b7454551bbbc9a4c6e74ef2e'\n",
    "visibility_token = nusc.annotation(anntoken).visibility_token\n",
    "visibility = nusc.visibility(visibility_token).token\n",
    "\n",
    "print(f\"Visibility: {visibility}\")"
   ]
  },
  {
   "cell_type": "markdown",
   "metadata": {},
   "source": [
    "### 9. `sensor`"
   ]
  },
  {
   "cell_type": "markdown",
   "metadata": {},
   "source": [
    "The nuScenes dataset consists of data collected from our full sensor suite which consists of:\n",
    "- 1 x LIDAR, \n",
    "- 5 x RADAR, \n",
    "- 6 x cameras, "
   ]
  },
  {
   "cell_type": "code",
   "execution_count": 18,
   "metadata": {
    "scrolled": true
   },
   "outputs": [
    {
     "data": {
      "text/plain": [
       "[<_nuscenes.Sensor at 0x7fda40085df0>,\n",
       " <_nuscenes.Sensor at 0x7fda40085af0>,\n",
       " <_nuscenes.Sensor at 0x7fda40086430>,\n",
       " <_nuscenes.Sensor at 0x7fda40086330>,\n",
       " <_nuscenes.Sensor at 0x7fda40085e70>,\n",
       " <_nuscenes.Sensor at 0x7fda40085ff0>,\n",
       " <_nuscenes.Sensor at 0x7fda400864b0>,\n",
       " <_nuscenes.Sensor at 0x7fda400863f0>,\n",
       " <_nuscenes.Sensor at 0x7fda400863b0>,\n",
       " <_nuscenes.Sensor at 0x7fda40086370>,\n",
       " <_nuscenes.Sensor at 0x7fda400864f0>,\n",
       " <_nuscenes.Sensor at 0x7fda40086530>]"
      ]
     },
     "execution_count": 18,
     "metadata": {},
     "output_type": "execute_result"
    }
   ],
   "source": [
    "nusc.sensors"
   ]
  },
  {
   "cell_type": "markdown",
   "metadata": {},
   "source": [
    "Every `sample_data` has a record on which `sensor` the data is collected from (note the \"channel\" key)"
   ]
  },
  {
   "cell_type": "code",
   "execution_count": 19,
   "metadata": {
    "scrolled": true
   },
   "outputs": [
    {
     "data": {
      "text/plain": [
       "<_nuscenes.SampleData at 0x7fda40086730>"
      ]
     },
     "execution_count": 19,
     "metadata": {},
     "output_type": "execute_result"
    }
   ],
   "source": [
    "nusc.sample_datas[10]"
   ]
  },
  {
   "cell_type": "markdown",
   "metadata": {},
   "source": [
    "### 10. `calibrated_sensor`"
   ]
  },
  {
   "cell_type": "markdown",
   "metadata": {},
   "source": [
    "`calibrated_sensor` consists of the definition of a particular sensor (lidar/radar/camera) as calibrated on a particular vehicle. Let us look at an example."
   ]
  },
  {
   "cell_type": "code",
   "execution_count": 20,
   "metadata": {
    "scrolled": true
   },
   "outputs": [
    {
     "data": {
      "text/plain": [
       "<_nuscenes.CalibratedSensor at 0x7fda400354b0>"
      ]
     },
     "execution_count": 20,
     "metadata": {},
     "output_type": "execute_result"
    }
   ],
   "source": [
    "nusc.calibrated_sensors[0]"
   ]
  },
  {
   "cell_type": "markdown",
   "metadata": {},
   "source": [
    "Note that the `translation` and the `rotation` parameters are given with respect to the ego vehicle body frame. "
   ]
  },
  {
   "cell_type": "markdown",
   "metadata": {},
   "source": [
    "### 11. `ego_pose`"
   ]
  },
  {
   "cell_type": "markdown",
   "metadata": {},
   "source": [
    "`ego_pose` contains information about the location (encoded in `translation`) and the orientation (encoded in `rotation`) of the ego vehicle, with respect to the global coordinate system."
   ]
  },
  {
   "cell_type": "code",
   "execution_count": 21,
   "metadata": {},
   "outputs": [
    {
     "data": {
      "text/plain": [
       "<_nuscenes.EgoPosition at 0x7fda400865b0>"
      ]
     },
     "execution_count": 21,
     "metadata": {},
     "output_type": "execute_result"
    }
   ],
   "source": [
    "nusc.ego_positions[0]"
   ]
  },
  {
   "cell_type": "markdown",
   "metadata": {},
   "source": [
    "Note that the number of `ego_pose` records in our loaded database is the same as the number of `sample_data` records. These two records exhibit a one-to-one correspondence."
   ]
  },
  {
   "cell_type": "markdown",
   "metadata": {},
   "source": [
    "### 12. `log`\n",
    "\n",
    "The `log` table contains log information from which the data was extracted. A `log` record corresponds to one journey of our ego vehicle along a predefined route. Let's check the number of logs and the metadata of a log."
   ]
  },
  {
   "cell_type": "code",
   "execution_count": 22,
   "metadata": {},
   "outputs": [
    {
     "name": "stdout",
     "output_type": "stream",
     "text": [
      "Number of `logs` in our loaded database: 8\n"
     ]
    }
   ],
   "source": [
    "print(\"Number of `logs` in our loaded database: {}\".format(len(nusc.logs)))"
   ]
  },
  {
   "cell_type": "code",
   "execution_count": 23,
   "metadata": {},
   "outputs": [
    {
     "data": {
      "text/plain": [
       "<_nuscenes.Log at 0x7fda40086ef0>"
      ]
     },
     "execution_count": 23,
     "metadata": {},
     "output_type": "execute_result"
    }
   ],
   "source": [
    "nusc.logs[0]"
   ]
  },
  {
   "cell_type": "markdown",
   "metadata": {},
   "source": [
    "Notice that it contains a variety of information such as the date and location of the log collected. It also gives out information about the map from where the data was collected. Note that one log can contain multiple non-overlapping scenes."
   ]
  },
  {
   "cell_type": "markdown",
   "metadata": {},
   "source": [
    "### 13. `map`"
   ]
  },
  {
   "cell_type": "markdown",
   "metadata": {},
   "source": [
    "Map information is stored as binary semantic masks from a top-down view. Let's check the number of maps and metadata of a map."
   ]
  },
  {
   "cell_type": "code",
   "execution_count": 24,
   "metadata": {},
   "outputs": [
    {
     "name": "stdout",
     "output_type": "stream",
     "text": [
      "There are 4 maps masks in the loaded dataset\n"
     ]
    }
   ],
   "source": [
    "print(\"There are {} maps masks in the loaded dataset\".format(len(nusc.maps)))"
   ]
  },
  {
   "cell_type": "code",
   "execution_count": 25,
   "metadata": {
    "scrolled": true
   },
   "outputs": [
    {
     "data": {
      "text/plain": [
       "<_nuscenes.Map at 0x7fda40047070>"
      ]
     },
     "execution_count": 25,
     "metadata": {},
     "output_type": "execute_result"
    }
   ],
   "source": [
    "nusc.maps[0]"
   ]
  },
  {
   "cell_type": "markdown",
   "metadata": {},
   "source": [
    "## nuScenes Basics"
   ]
  },
  {
   "cell_type": "markdown",
   "metadata": {},
   "source": [
    "Let's get a bit technical.\n",
    "\n",
    "The NuScenes class holds several tables. Each table is a list of records, and each record is a dictionary. For example the first record of the category table is stored at:"
   ]
  },
  {
   "cell_type": "code",
   "execution_count": 26,
   "metadata": {},
   "outputs": [
    {
     "data": {
      "text/plain": [
       "<_nuscenes.Category at 0x7fda4007bb30>"
      ]
     },
     "execution_count": 26,
     "metadata": {},
     "output_type": "execute_result"
    }
   ],
   "source": [
    "nusc.categories[0]"
   ]
  },
  {
   "cell_type": "markdown",
   "metadata": {},
   "source": [
    "The category table is simple: it holds the fields `name` and `description`. It also has a `token` field, which is a unique record identifier. Since the record is a dictionary, the token can be accessed like so:"
   ]
  },
  {
   "cell_type": "code",
   "execution_count": 27,
   "metadata": {},
   "outputs": [
    {
     "data": {
      "text/plain": [
       "'1fa93b757fc74fb197cdd60001ad8abf'"
      ]
     },
     "execution_count": 27,
     "metadata": {},
     "output_type": "execute_result"
    }
   ],
   "source": [
    "cat_token = nusc.categories[0].token\n",
    "cat_token"
   ]
  },
  {
   "cell_type": "markdown",
   "metadata": {},
   "source": [
    "If you know the `token` for any record in the DB you can retrieve the record by doing"
   ]
  },
  {
   "cell_type": "code",
   "execution_count": 28,
   "metadata": {},
   "outputs": [
    {
     "data": {
      "text/plain": [
       "<_nuscenes.Category at 0x7fda4007bb30>"
      ]
     },
     "execution_count": 28,
     "metadata": {},
     "output_type": "execute_result"
    }
   ],
   "source": [
    "nusc.category(cat_token)"
   ]
  },
  {
   "cell_type": "markdown",
   "metadata": {},
   "source": [
    "_As you can notice, we have recovered the same record!_"
   ]
  },
  {
   "cell_type": "markdown",
   "metadata": {},
   "source": [
    "OK, that was easy. Let's try something harder. Let's look at the `sample_annotation` table."
   ]
  },
  {
   "cell_type": "code",
   "execution_count": 29,
   "metadata": {},
   "outputs": [
    {
     "data": {
      "text/plain": [
       "<_nuscenes.Annotation at 0x7fda40087af0>"
      ]
     },
     "execution_count": 29,
     "metadata": {},
     "output_type": "execute_result"
    }
   ],
   "source": [
    "nusc.annotations[0]"
   ]
  },
  {
   "cell_type": "markdown",
   "metadata": {},
   "source": [
    "This also has a `token` field (they all do). In addition, it has several fields of the format [a-z]*\\_token, _e.g._ instance_token. These are foreign keys in database terminology, meaning they point to another table. \n",
    "Using `nusc.get()` we can grab any of these in constant time. For example, let's look at the visibility record."
   ]
  },
  {
   "cell_type": "code",
   "execution_count": 30,
   "metadata": {},
   "outputs": [
    {
     "data": {
      "text/plain": [
       "<_nuscenes.Visibility at 0x7fda400852f0>"
      ]
     },
     "execution_count": 30,
     "metadata": {},
     "output_type": "execute_result"
    }
   ],
   "source": [
    "nusc.visibility(nusc.annotations[0].visibility_token)"
   ]
  },
  {
   "cell_type": "markdown",
   "metadata": {},
   "source": [
    "The visibility records indicate how much of an object was visible when it was annotated.\n",
    "\n",
    "Let's also grab the `instance_token`"
   ]
  },
  {
   "cell_type": "code",
   "execution_count": 31,
   "metadata": {},
   "outputs": [
    {
     "data": {
      "text/plain": [
       "<_nuscenes.Instance at 0x7fda400795b0>"
      ]
     },
     "execution_count": 31,
     "metadata": {},
     "output_type": "execute_result"
    }
   ],
   "source": [
    "one_instance = nusc.instance(nusc.annotations[0].instance_token)\n",
    "one_instance"
   ]
  },
  {
   "cell_type": "markdown",
   "metadata": {},
   "source": [
    "This points to the `instance` table. This table enumerate the object _instances_ we have encountered in each \n",
    "scene. This way we can connect all annotations of a particular object.\n",
    "\n",
    "If you look carefully at the README tables, you will see that the sample_annotation table points to the instance table, \n",
    "but the instance table doesn't list all annotations that point to it. \n",
    "\n",
    "So how can we recover all sample_annotations for a particular object instance? There are two ways:\n",
    "\n",
    "1. Directly use `instance.annotations`. Let's try it:"
   ]
  },
  {
   "cell_type": "code",
   "execution_count": 32,
   "metadata": {},
   "outputs": [
    {
     "data": {
      "text/plain": [
       "[<_nuscenes.Annotation at 0x7fda40088630>,\n",
       " <_nuscenes.Annotation at 0x7fda40088b70>,\n",
       " <_nuscenes.Annotation at 0x7fda40088bf0>,\n",
       " <_nuscenes.Annotation at 0x7fda400889b0>,\n",
       " <_nuscenes.Annotation at 0x7fda40088b30>,\n",
       " <_nuscenes.Annotation at 0x7fda40088af0>,\n",
       " <_nuscenes.Annotation at 0x7fda40088a30>,\n",
       " <_nuscenes.Annotation at 0x7fda40088c30>,\n",
       " <_nuscenes.Annotation at 0x7fda40088c70>,\n",
       " <_nuscenes.Annotation at 0x7fda40088cb0>,\n",
       " <_nuscenes.Annotation at 0x7fda40088cf0>,\n",
       " <_nuscenes.Annotation at 0x7fda40088d30>,\n",
       " <_nuscenes.Annotation at 0x7fda40088d70>,\n",
       " <_nuscenes.Annotation at 0x7fda40088db0>,\n",
       " <_nuscenes.Annotation at 0x7fda40088df0>,\n",
       " <_nuscenes.Annotation at 0x7fda40087af0>,\n",
       " <_nuscenes.Annotation at 0x7fda40088e30>,\n",
       " <_nuscenes.Annotation at 0x7fda40088e70>,\n",
       " <_nuscenes.Annotation at 0x7fda40088eb0>,\n",
       " <_nuscenes.Annotation at 0x7fda40088ef0>,\n",
       " <_nuscenes.Annotation at 0x7fda40088f30>,\n",
       " <_nuscenes.Annotation at 0x7fda40088f70>,\n",
       " <_nuscenes.Annotation at 0x7fda40088fb0>,\n",
       " <_nuscenes.Annotation at 0x7fda40088ff0>,\n",
       " <_nuscenes.Annotation at 0x7fda40089030>,\n",
       " <_nuscenes.Annotation at 0x7fda40089070>,\n",
       " <_nuscenes.Annotation at 0x7fda400890b0>,\n",
       " <_nuscenes.Annotation at 0x7fda400890f0>,\n",
       " <_nuscenes.Annotation at 0x7fda40089130>,\n",
       " <_nuscenes.Annotation at 0x7fda40089170>,\n",
       " <_nuscenes.Annotation at 0x7fda400891b0>,\n",
       " <_nuscenes.Annotation at 0x7fda400891f0>,\n",
       " <_nuscenes.Annotation at 0x7fda40089230>,\n",
       " <_nuscenes.Annotation at 0x7fda40089270>,\n",
       " <_nuscenes.Annotation at 0x7fda400892b0>,\n",
       " <_nuscenes.Annotation at 0x7fda400892f0>,\n",
       " <_nuscenes.Annotation at 0x7fda40089330>,\n",
       " <_nuscenes.Annotation at 0x7fda40089370>,\n",
       " <_nuscenes.Annotation at 0x7fda400893b0>]"
      ]
     },
     "execution_count": 32,
     "metadata": {},
     "output_type": "execute_result"
    }
   ],
   "source": [
    "ann_tokens = one_instance.annotations\n",
    "ann_tokens"
   ]
  },
  {
   "cell_type": "markdown",
   "metadata": {},
   "source": [
    "This returns a list of all sample_annotation records with the `'instance_token'` == `one_instance['token']`. Let's store these in a set for now"
   ]
  },
  {
   "cell_type": "code",
   "execution_count": 33,
   "metadata": {
    "scrolled": true
   },
   "outputs": [
    {
     "data": {
      "text/plain": [
       "{<_nuscenes.Annotation at 0x7fda40087af0>,\n",
       " <_nuscenes.Annotation at 0x7fda40088630>,\n",
       " <_nuscenes.Annotation at 0x7fda400889b0>,\n",
       " <_nuscenes.Annotation at 0x7fda40088a30>,\n",
       " <_nuscenes.Annotation at 0x7fda40088af0>,\n",
       " <_nuscenes.Annotation at 0x7fda40088b30>,\n",
       " <_nuscenes.Annotation at 0x7fda40088b70>,\n",
       " <_nuscenes.Annotation at 0x7fda40088bf0>,\n",
       " <_nuscenes.Annotation at 0x7fda40088c30>,\n",
       " <_nuscenes.Annotation at 0x7fda40088c70>,\n",
       " <_nuscenes.Annotation at 0x7fda40088cb0>,\n",
       " <_nuscenes.Annotation at 0x7fda40088cf0>,\n",
       " <_nuscenes.Annotation at 0x7fda40088d30>,\n",
       " <_nuscenes.Annotation at 0x7fda40088d70>,\n",
       " <_nuscenes.Annotation at 0x7fda40088db0>,\n",
       " <_nuscenes.Annotation at 0x7fda40088df0>,\n",
       " <_nuscenes.Annotation at 0x7fda40088e30>,\n",
       " <_nuscenes.Annotation at 0x7fda40088e70>,\n",
       " <_nuscenes.Annotation at 0x7fda40088eb0>,\n",
       " <_nuscenes.Annotation at 0x7fda40088ef0>,\n",
       " <_nuscenes.Annotation at 0x7fda40088f30>,\n",
       " <_nuscenes.Annotation at 0x7fda40088f70>,\n",
       " <_nuscenes.Annotation at 0x7fda40088fb0>,\n",
       " <_nuscenes.Annotation at 0x7fda40088ff0>,\n",
       " <_nuscenes.Annotation at 0x7fda40089030>,\n",
       " <_nuscenes.Annotation at 0x7fda40089070>,\n",
       " <_nuscenes.Annotation at 0x7fda400890b0>,\n",
       " <_nuscenes.Annotation at 0x7fda400890f0>,\n",
       " <_nuscenes.Annotation at 0x7fda40089130>,\n",
       " <_nuscenes.Annotation at 0x7fda40089170>,\n",
       " <_nuscenes.Annotation at 0x7fda400891b0>,\n",
       " <_nuscenes.Annotation at 0x7fda400891f0>,\n",
       " <_nuscenes.Annotation at 0x7fda40089230>,\n",
       " <_nuscenes.Annotation at 0x7fda40089270>,\n",
       " <_nuscenes.Annotation at 0x7fda400892b0>,\n",
       " <_nuscenes.Annotation at 0x7fda400892f0>,\n",
       " <_nuscenes.Annotation at 0x7fda40089330>,\n",
       " <_nuscenes.Annotation at 0x7fda40089370>,\n",
       " <_nuscenes.Annotation at 0x7fda400893b0>}"
      ]
     },
     "execution_count": 33,
     "metadata": {},
     "output_type": "execute_result"
    }
   ],
   "source": [
    "ann_tokens_field2token = set(ann_tokens)\n",
    "\n",
    "ann_tokens_field2token"
   ]
  },
  {
   "cell_type": "markdown",
   "metadata": {},
   "source": [
    "The `nusc.field2token()` method is generic and can be used in any similar situation.\n",
    "\n",
    "2. For certain situation, we provide some reverse indices in the tables themselves. This is one such example. "
   ]
  },
  {
   "cell_type": "markdown",
   "metadata": {},
   "source": [
    "The instance record has a field `first_annotation_token` which points to the first annotation in time of this instance. \n",
    "Recovering this record is easy."
   ]
  },
  {
   "cell_type": "code",
   "execution_count": 34,
   "metadata": {},
   "outputs": [
    {
     "data": {
      "text/plain": [
       "<_nuscenes.Annotation at 0x7fda40088630>"
      ]
     },
     "execution_count": 34,
     "metadata": {},
     "output_type": "execute_result"
    }
   ],
   "source": [
    "ann_record = one_instance.annotations[0]\n",
    "ann_record"
   ]
  },
  {
   "cell_type": "markdown",
   "metadata": {},
   "source": [
    "Now we can traverse all annotations of this instance using the \"next\" field. Let's try it. "
   ]
  },
  {
   "cell_type": "code",
   "execution_count": 35,
   "metadata": {},
   "outputs": [],
   "source": [
    "ann_tokens_traverse = set()\n",
    "ann_tokens_traverse.add(ann_record.token)\n",
    "while not ann_record.next_token == \"\":\n",
    "    ann_record = nusc.annotation(ann_record.next_token)\n",
    "    ann_tokens_traverse.add(ann_record.token)"
   ]
  },
  {
   "cell_type": "markdown",
   "metadata": {},
   "source": [
    "Finally, let's assert that we recovered the same ann_records as we did using nusc.field2token:"
   ]
  },
  {
   "cell_type": "code",
   "execution_count": 36,
   "metadata": {},
   "outputs": [
    {
     "name": "stdout",
     "output_type": "stream",
     "text": [
      "39\n",
      "39\n",
      "False\n"
     ]
    }
   ],
   "source": [
    "print(len(ann_tokens_field2token))\n",
    "print(len(ann_tokens_traverse))\n",
    "print(ann_tokens_traverse == ann_tokens_field2token)"
   ]
  },
  {
   "cell_type": "markdown",
   "metadata": {},
   "source": [
    "## Reverse indexing and short-cuts\n",
    "\n",
    "The nuScenes tables are normalized, meaning that each piece of information is only given once.\n",
    "For example, there is one `map` record for each `log` record. Looking at the schema you will notice that the `map` table has a `log_token` field, but that the `log` table does not have a corresponding `map_token` field. But there are plenty of situations where you have a `log`, and want to find the corresponding `map`! So what to do? You can always use the `nusc.field2token()` method, but that is slow and inconvenient. We therefore add reverse mappings for some common situations including this one.\n",
    "\n",
    "Further, there are situations where one needs to go through several tables to get a certain piece of information. \n",
    "Consider, for example, the category name (e.g. `human.pedestrian`) of a `sample_annotation`. The `sample_annotation` table doesn't hold this information since the category is an instance level constant. Instead the `sample_annotation` table points to a record in the `instance` table. This, in turn, points to a record in the `category` table, where finally the `name` fields stores the required information.\n",
    "\n",
    "Since it is quite common to want to know the category name of an annotation, we add a `category_name` field to the `sample_annotation` table during initialization of the NuScenes class.\n",
    "\n",
    "In this section, we list the short-cuts and reverse indices that are added to the `NuScenes` class during initialization. These are all created in the `NuScenes.__make_reverse_index__()` method."
   ]
  },
  {
   "cell_type": "markdown",
   "metadata": {},
   "source": [
    "### Reverse indices\n",
    "We add two reverse indices by default.\n",
    "* A `map_token` field is added to the `log` records.\n",
    "* The `sample` records have shortcuts to all `sample_annotations` for that record as well as `sample_data` key-frames. Confer `nusc.list_sample()` method in the previous section for more details on this."
   ]
  },
  {
   "cell_type": "markdown",
   "metadata": {},
   "source": [
    "## Data Visualizations\n",
    "\n",
    "We provide list and rendering methods. These are meant both as convenience methods during development, and as tutorials for building your own visualization methods. They are implemented in the NuScenesExplorer class, with shortcuts through the NuScenes class itself."
   ]
  },
  {
   "cell_type": "markdown",
   "metadata": {},
   "source": [
    "### List methods\n",
    "There are three list methods available."
   ]
  },
  {
   "cell_type": "markdown",
   "metadata": {},
   "source": [
    "1. `list_categories()` lists all categories, counts and statistics of width/length/height in meters and aspect ratio."
   ]
  },
  {
   "cell_type": "code",
   "execution_count": 37,
   "metadata": {},
   "outputs": [
    {
     "data": {
      "text/plain": [
       "[<_nuscenes.Category at 0x7fda4007bb30>,\n",
       " <_nuscenes.Category at 0x7fda4007bbb0>,\n",
       " <_nuscenes.Category at 0x7fda4007bf70>,\n",
       " <_nuscenes.Category at 0x7fda4007be30>,\n",
       " <_nuscenes.Category at 0x7fda4007bf30>,\n",
       " <_nuscenes.Category at 0x7fda4007bef0>,\n",
       " <_nuscenes.Category at 0x7fda4007bfb0>,\n",
       " <_nuscenes.Category at 0x7fda4007bc30>,\n",
       " <_nuscenes.Category at 0x7fda400840f0>,\n",
       " <_nuscenes.Category at 0x7fda40084130>,\n",
       " <_nuscenes.Category at 0x7fda400840b0>,\n",
       " <_nuscenes.Category at 0x7fda40084070>,\n",
       " <_nuscenes.Category at 0x7fda40084030>,\n",
       " <_nuscenes.Category at 0x7fda40084170>,\n",
       " <_nuscenes.Category at 0x7fda400841b0>,\n",
       " <_nuscenes.Category at 0x7fda400841f0>,\n",
       " <_nuscenes.Category at 0x7fda40084230>,\n",
       " <_nuscenes.Category at 0x7fda40084270>,\n",
       " <_nuscenes.Category at 0x7fda400842b0>,\n",
       " <_nuscenes.Category at 0x7fda400842f0>,\n",
       " <_nuscenes.Category at 0x7fda40084330>,\n",
       " <_nuscenes.Category at 0x7fda40084370>,\n",
       " <_nuscenes.Category at 0x7fda400843b0>]"
      ]
     },
     "execution_count": 37,
     "metadata": {},
     "output_type": "execute_result"
    }
   ],
   "source": [
    "nusc.categories"
   ]
  },
  {
   "cell_type": "markdown",
   "metadata": {},
   "source": [
    "2. `list_attributes()` lists all attributes and counts."
   ]
  },
  {
   "cell_type": "code",
   "execution_count": 38,
   "metadata": {},
   "outputs": [
    {
     "data": {
      "text/plain": [
       "[<_nuscenes.Attribute at 0x7fda400849f0>,\n",
       " <_nuscenes.Attribute at 0x7fda40084bb0>,\n",
       " <_nuscenes.Attribute at 0x7fda400846f0>,\n",
       " <_nuscenes.Attribute at 0x7fda40084bf0>,\n",
       " <_nuscenes.Attribute at 0x7fda40084eb0>,\n",
       " <_nuscenes.Attribute at 0x7fda40084ef0>,\n",
       " <_nuscenes.Attribute at 0x7fda400845f0>,\n",
       " <_nuscenes.Attribute at 0x7fda40084f30>]"
      ]
     },
     "execution_count": 38,
     "metadata": {},
     "output_type": "execute_result"
    }
   ],
   "source": [
    "nusc.attributes"
   ]
  },
  {
   "cell_type": "markdown",
   "metadata": {},
   "source": [
    "3. `list_scenes()` lists all scenes in the loaded DB."
   ]
  },
  {
   "cell_type": "code",
   "execution_count": 39,
   "metadata": {},
   "outputs": [
    {
     "data": {
      "text/plain": [
       "[<_nuscenes.Scene at 0x7fda4422e230>,\n",
       " <_nuscenes.Scene at 0x7fda40049cf0>,\n",
       " <_nuscenes.Scene at 0x7fda400497f0>,\n",
       " <_nuscenes.Scene at 0x7fda40041cb0>,\n",
       " <_nuscenes.Scene at 0x7fda400427b0>,\n",
       " <_nuscenes.Scene at 0x7fda40054ef0>,\n",
       " <_nuscenes.Scene at 0x7fda40054df0>,\n",
       " <_nuscenes.Scene at 0x7fda40054fb0>,\n",
       " <_nuscenes.Scene at 0x7fda40055070>,\n",
       " <_nuscenes.Scene at 0x7fda40055170>]"
      ]
     },
     "execution_count": 39,
     "metadata": {},
     "output_type": "execute_result"
    }
   ],
   "source": [
    "nusc.scenes"
   ]
  }
 ],
 "metadata": {
  "kernelspec": {
   "display_name": "Python 3",
   "language": "python",
   "name": "python3"
  },
  "language_info": {
   "codemirror_mode": {
    "name": "ipython",
    "version": 3
   },
   "file_extension": ".py",
   "mimetype": "text/x-python",
   "name": "python",
   "nbconvert_exporter": "python",
   "pygments_lexer": "ipython3",
   "version": "3.11.6"
  }
 },
 "nbformat": 4,
 "nbformat_minor": 2
}
